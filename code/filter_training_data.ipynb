{
 "cells": [
  {
   "cell_type": "code",
   "execution_count": 1,
   "metadata": {},
   "outputs": [],
   "source": [
    "import numpy as np\n",
    "import pandas as pd\n",
    "import seaborn as sns"
   ]
  },
  {
   "cell_type": "code",
   "execution_count": 5,
   "metadata": {},
   "outputs": [
    {
     "name": "stdout",
     "output_type": "stream",
     "text": [
      "4.440446e-07\n"
     ]
    }
   ],
   "source": [
    "df = pd.read_csv('./training_data/TESTclean.csv')"
   ]
  },
  {
   "cell_type": "code",
   "execution_count": 6,
   "metadata": {},
   "outputs": [
    {
     "name": "stdout",
     "output_type": "stream",
     "text": [
      "4.440446e-07\n",
      "0.5999883\n"
     ]
    }
   ],
   "source": [
    "print(df.iloc[:,0].min())\n",
    "print(df.iloc[:,0].max())"
   ]
  },
  {
   "cell_type": "code",
   "execution_count": 3,
   "metadata": {},
   "outputs": [],
   "source": [
    "df = pd.read_csv('./TESTclean.csv')\n",
    "filtered_df = df[(df.iloc[:, 0] > 0.02) & (df.iloc[:, 0] < 0.4)]\n",
    "filtered_df.to_csv('TESTclean_filtered.csv', index=False, header=False)"
   ]
  },
  {
   "cell_type": "code",
   "execution_count": 7,
   "metadata": {},
   "outputs": [
    {
     "name": "stdout",
     "output_type": "stream",
     "text": [
      "Percentage of original dataset remaining: 99.13%\n"
     ]
    }
   ],
   "source": [
    "original_size = df.shape[0]\n",
    "filtered_size = filtered_df.shape[0]\n",
    "remaining_percentage = (filtered_size / original_size) * 100\n",
    "print(f\"Percentage of original dataset remaining: {remaining_percentage:.2f}%\")"
   ]
  }
 ],
 "metadata": {
  "kernelspec": {
   "display_name": "thesis_tfdml",
   "language": "python",
   "name": "python3"
  },
  "language_info": {
   "codemirror_mode": {
    "name": "ipython",
    "version": 3
   },
   "file_extension": ".py",
   "mimetype": "text/x-python",
   "name": "python",
   "nbconvert_exporter": "python",
   "pygments_lexer": "ipython3",
   "version": "3.9.16"
  },
  "orig_nbformat": 4
 },
 "nbformat": 4,
 "nbformat_minor": 2
}
